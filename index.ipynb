{
 "cells": [
  {
   "cell_type": "markdown",
   "metadata": {},
   "source": [
    "# Stanford Water Course 2020\n",
    "\n",
    "Below cell will install the required python packages. "
   ]
  },
  {
   "cell_type": "code",
   "execution_count": 4,
   "metadata": {},
   "outputs": [
    {
     "name": "stdout",
     "output_type": "stream",
     "text": [
      "Collecting simpegEM1D==0.0.18a0 (from -r requirement.txt (line 1))\n",
      "  Using cached https://files.pythonhosted.org/packages/d2/36/2ccf177a2ddf88afdfa271fbd598320981e170e50e6ccba1bc874908c99c/simpegEM1D-0.0.18a0-cp37-cp37m-macosx_10_7_x86_64.whl\n",
      "Collecting empymod>=1.6.2 (from simpegEM1D==0.0.18a0->-r requirement.txt (line 1))\n",
      "  Using cached https://files.pythonhosted.org/packages/ad/01/b257911dbc987a440be8972384798a368b41be870526959eebc48142f49c/empymod-1.10.3-py3-none-any.whl\n",
      "Requirement already satisfied: multiprocess in /Users/sgkang/anaconda3/lib/python3.7/site-packages/multiprocess-0.70.8-py3.7-macosx-10.7-x86_64.egg (from simpegEM1D==0.0.18a0->-r requirement.txt (line 1)) (0.70.8)\n",
      "Requirement already satisfied: SimPEG>=0.4.1 in /Users/sgkang/Projects/simpeg (from simpegEM1D==0.0.18a0->-r requirement.txt (line 1)) (0.11.3)\n",
      "Requirement already satisfied: scipy>=1.0.0 in /Users/sgkang/anaconda3/lib/python3.7/site-packages (from empymod>=1.6.2->simpegEM1D==0.0.18a0->-r requirement.txt (line 1)) (1.3.0)\n",
      "Requirement already satisfied: numpy in /Users/sgkang/anaconda3/lib/python3.7/site-packages (from empymod>=1.6.2->simpegEM1D==0.0.18a0->-r requirement.txt (line 1)) (1.18.1)\n",
      "Requirement already satisfied: dill>=0.3.0 in /Users/sgkang/anaconda3/lib/python3.7/site-packages/dill-0.3.0-py3.7.egg (from multiprocess->simpegEM1D==0.0.18a0->-r requirement.txt (line 1)) (0.3.0)\n",
      "Requirement already satisfied: cython in /Users/sgkang/anaconda3/lib/python3.7/site-packages (from SimPEG>=0.4.1->simpegEM1D==0.0.18a0->-r requirement.txt (line 1)) (0.29.12)\n",
      "Requirement already satisfied: pymatsolver>=0.1.1 in /Users/sgkang/anaconda3/lib/python3.7/site-packages/pymatsolver-0.1.2-py3.7.egg (from SimPEG>=0.4.1->simpegEM1D==0.0.18a0->-r requirement.txt (line 1)) (0.1.2)\n",
      "Requirement already satisfied: ipython in /Users/sgkang/anaconda3/lib/python3.7/site-packages (from SimPEG>=0.4.1->simpegEM1D==0.0.18a0->-r requirement.txt (line 1)) (7.6.1)\n",
      "Requirement already satisfied: matplotlib in /Users/sgkang/anaconda3/lib/python3.7/site-packages (from SimPEG>=0.4.1->simpegEM1D==0.0.18a0->-r requirement.txt (line 1)) (3.1.0)\n",
      "Requirement already satisfied: properties>=0.5.2 in /Users/sgkang/anaconda3/lib/python3.7/site-packages/properties-0.6.0b1-py3.7.egg (from SimPEG>=0.4.1->simpegEM1D==0.0.18a0->-r requirement.txt (line 1)) (0.6.0b1)\n",
      "Requirement already satisfied: vectormath>=0.2.0 in /Users/sgkang/anaconda3/lib/python3.7/site-packages/vectormath-0.2.2-py3.7.egg (from SimPEG>=0.4.1->simpegEM1D==0.0.18a0->-r requirement.txt (line 1)) (0.2.2)\n",
      "Requirement already satisfied: discretize>=0.2.0 in /Users/sgkang/Projects/discretize (from SimPEG>=0.4.1->simpegEM1D==0.0.18a0->-r requirement.txt (line 1)) (0.4.2)\n",
      "Requirement already satisfied: geoana>=0.0.4 in /Users/sgkang/anaconda3/lib/python3.7/site-packages/geoana-0.0.5-py3.7.egg (from SimPEG>=0.4.1->simpegEM1D==0.0.18a0->-r requirement.txt (line 1)) (0.0.5)\n",
      "Collecting pyMKL>=0.0.3 (from pymatsolver>=0.1.1->SimPEG>=0.4.1->simpegEM1D==0.0.18a0->-r requirement.txt (line 1))\n",
      "Requirement already satisfied: jedi>=0.10 in /Users/sgkang/anaconda3/lib/python3.7/site-packages (from ipython->SimPEG>=0.4.1->simpegEM1D==0.0.18a0->-r requirement.txt (line 1)) (0.13.3)\n",
      "Requirement already satisfied: decorator in /Users/sgkang/anaconda3/lib/python3.7/site-packages (from ipython->SimPEG>=0.4.1->simpegEM1D==0.0.18a0->-r requirement.txt (line 1)) (4.4.0)\n",
      "Requirement already satisfied: traitlets>=4.2 in /Users/sgkang/anaconda3/lib/python3.7/site-packages (from ipython->SimPEG>=0.4.1->simpegEM1D==0.0.18a0->-r requirement.txt (line 1)) (4.3.2)\n",
      "Requirement already satisfied: pickleshare in /Users/sgkang/anaconda3/lib/python3.7/site-packages (from ipython->SimPEG>=0.4.1->simpegEM1D==0.0.18a0->-r requirement.txt (line 1)) (0.7.5)\n",
      "Requirement already satisfied: appnope; sys_platform == \"darwin\" in /Users/sgkang/anaconda3/lib/python3.7/site-packages (from ipython->SimPEG>=0.4.1->simpegEM1D==0.0.18a0->-r requirement.txt (line 1)) (0.1.0)\n",
      "Requirement already satisfied: prompt-toolkit<2.1.0,>=2.0.0 in /Users/sgkang/anaconda3/lib/python3.7/site-packages (from ipython->SimPEG>=0.4.1->simpegEM1D==0.0.18a0->-r requirement.txt (line 1)) (2.0.9)\n",
      "Requirement already satisfied: setuptools>=18.5 in /Users/sgkang/anaconda3/lib/python3.7/site-packages (from ipython->SimPEG>=0.4.1->simpegEM1D==0.0.18a0->-r requirement.txt (line 1)) (41.0.1)\n",
      "Requirement already satisfied: pexpect; sys_platform != \"win32\" in /Users/sgkang/anaconda3/lib/python3.7/site-packages (from ipython->SimPEG>=0.4.1->simpegEM1D==0.0.18a0->-r requirement.txt (line 1)) (4.7.0)\n",
      "Requirement already satisfied: pygments in /Users/sgkang/anaconda3/lib/python3.7/site-packages (from ipython->SimPEG>=0.4.1->simpegEM1D==0.0.18a0->-r requirement.txt (line 1)) (2.4.2)\n",
      "Requirement already satisfied: backcall in /Users/sgkang/anaconda3/lib/python3.7/site-packages (from ipython->SimPEG>=0.4.1->simpegEM1D==0.0.18a0->-r requirement.txt (line 1)) (0.1.0)\n",
      "Requirement already satisfied: cycler>=0.10 in /Users/sgkang/anaconda3/lib/python3.7/site-packages (from matplotlib->SimPEG>=0.4.1->simpegEM1D==0.0.18a0->-r requirement.txt (line 1)) (0.10.0)\n",
      "Requirement already satisfied: kiwisolver>=1.0.1 in /Users/sgkang/anaconda3/lib/python3.7/site-packages (from matplotlib->SimPEG>=0.4.1->simpegEM1D==0.0.18a0->-r requirement.txt (line 1)) (1.1.0)\n",
      "Requirement already satisfied: pyparsing!=2.0.4,!=2.1.2,!=2.1.6,>=2.0.1 in /Users/sgkang/anaconda3/lib/python3.7/site-packages (from matplotlib->SimPEG>=0.4.1->simpegEM1D==0.0.18a0->-r requirement.txt (line 1)) (2.4.0)\n",
      "Requirement already satisfied: python-dateutil>=2.1 in /Users/sgkang/anaconda3/lib/python3.7/site-packages (from matplotlib->SimPEG>=0.4.1->simpegEM1D==0.0.18a0->-r requirement.txt (line 1)) (2.8.0)\n",
      "Requirement already satisfied: six>=1.7.3 in /Users/sgkang/anaconda3/lib/python3.7/site-packages (from properties>=0.5.2->SimPEG>=0.4.1->simpegEM1D==0.0.18a0->-r requirement.txt (line 1)) (1.12.0)\n",
      "Requirement already satisfied: future in /Users/sgkang/anaconda3/lib/python3.7/site-packages (from geoana>=0.0.4->SimPEG>=0.4.1->simpegEM1D==0.0.18a0->-r requirement.txt (line 1)) (0.17.1)\n",
      "Requirement already satisfied: ipywidgets in /Users/sgkang/anaconda3/lib/python3.7/site-packages (from geoana>=0.0.4->SimPEG>=0.4.1->simpegEM1D==0.0.18a0->-r requirement.txt (line 1)) (7.5.0)\n",
      "Requirement already satisfied: jupyter in /Users/sgkang/anaconda3/lib/python3.7/site-packages (from geoana>=0.0.4->SimPEG>=0.4.1->simpegEM1D==0.0.18a0->-r requirement.txt (line 1)) (1.0.0)\n",
      "Requirement already satisfied: utm in /Users/sgkang/anaconda3/lib/python3.7/site-packages/utm-0.5.0-py3.7.egg (from geoana>=0.0.4->SimPEG>=0.4.1->simpegEM1D==0.0.18a0->-r requirement.txt (line 1)) (0.5.0)\n",
      "Requirement already satisfied: parso>=0.3.0 in /Users/sgkang/anaconda3/lib/python3.7/site-packages (from jedi>=0.10->ipython->SimPEG>=0.4.1->simpegEM1D==0.0.18a0->-r requirement.txt (line 1)) (0.5.0)\n",
      "Requirement already satisfied: ipython-genutils in /Users/sgkang/anaconda3/lib/python3.7/site-packages (from traitlets>=4.2->ipython->SimPEG>=0.4.1->simpegEM1D==0.0.18a0->-r requirement.txt (line 1)) (0.2.0)\n",
      "Requirement already satisfied: wcwidth in /Users/sgkang/anaconda3/lib/python3.7/site-packages (from prompt-toolkit<2.1.0,>=2.0.0->ipython->SimPEG>=0.4.1->simpegEM1D==0.0.18a0->-r requirement.txt (line 1)) (0.1.7)\n",
      "Requirement already satisfied: ptyprocess>=0.5 in /Users/sgkang/anaconda3/lib/python3.7/site-packages (from pexpect; sys_platform != \"win32\"->ipython->SimPEG>=0.4.1->simpegEM1D==0.0.18a0->-r requirement.txt (line 1)) (0.6.0)\n",
      "Requirement already satisfied: ipykernel>=4.5.1 in /Users/sgkang/anaconda3/lib/python3.7/site-packages (from ipywidgets->geoana>=0.0.4->SimPEG>=0.4.1->simpegEM1D==0.0.18a0->-r requirement.txt (line 1)) (5.1.1)\n",
      "Requirement already satisfied: widgetsnbextension~=3.5.0 in /Users/sgkang/anaconda3/lib/python3.7/site-packages (from ipywidgets->geoana>=0.0.4->SimPEG>=0.4.1->simpegEM1D==0.0.18a0->-r requirement.txt (line 1)) (3.5.0)\n",
      "Requirement already satisfied: nbformat>=4.2.0 in /Users/sgkang/anaconda3/lib/python3.7/site-packages (from ipywidgets->geoana>=0.0.4->SimPEG>=0.4.1->simpegEM1D==0.0.18a0->-r requirement.txt (line 1)) (4.4.0)\n",
      "Requirement already satisfied: jupyter-console in /Users/sgkang/anaconda3/lib/python3.7/site-packages (from jupyter->geoana>=0.0.4->SimPEG>=0.4.1->simpegEM1D==0.0.18a0->-r requirement.txt (line 1)) (6.0.0)\n",
      "Requirement already satisfied: qtconsole in /Users/sgkang/anaconda3/lib/python3.7/site-packages (from jupyter->geoana>=0.0.4->SimPEG>=0.4.1->simpegEM1D==0.0.18a0->-r requirement.txt (line 1)) (4.5.1)\n",
      "Requirement already satisfied: notebook in /Users/sgkang/anaconda3/lib/python3.7/site-packages (from jupyter->geoana>=0.0.4->SimPEG>=0.4.1->simpegEM1D==0.0.18a0->-r requirement.txt (line 1)) (6.0.0)\n"
     ]
    },
    {
     "name": "stdout",
     "output_type": "stream",
     "text": [
      "Requirement already satisfied: nbconvert in /Users/sgkang/anaconda3/lib/python3.7/site-packages (from jupyter->geoana>=0.0.4->SimPEG>=0.4.1->simpegEM1D==0.0.18a0->-r requirement.txt (line 1)) (5.5.0)\n",
      "Requirement already satisfied: tornado>=4.2 in /Users/sgkang/anaconda3/lib/python3.7/site-packages (from ipykernel>=4.5.1->ipywidgets->geoana>=0.0.4->SimPEG>=0.4.1->simpegEM1D==0.0.18a0->-r requirement.txt (line 1)) (6.0.3)\n",
      "Requirement already satisfied: jupyter-client in /Users/sgkang/anaconda3/lib/python3.7/site-packages (from ipykernel>=4.5.1->ipywidgets->geoana>=0.0.4->SimPEG>=0.4.1->simpegEM1D==0.0.18a0->-r requirement.txt (line 1)) (5.3.1)\n",
      "Requirement already satisfied: jsonschema!=2.5.0,>=2.4 in /Users/sgkang/anaconda3/lib/python3.7/site-packages (from nbformat>=4.2.0->ipywidgets->geoana>=0.0.4->SimPEG>=0.4.1->simpegEM1D==0.0.18a0->-r requirement.txt (line 1)) (3.0.1)\n",
      "Requirement already satisfied: jupyter-core in /Users/sgkang/anaconda3/lib/python3.7/site-packages (from nbformat>=4.2.0->ipywidgets->geoana>=0.0.4->SimPEG>=0.4.1->simpegEM1D==0.0.18a0->-r requirement.txt (line 1)) (4.5.0)\n",
      "Requirement already satisfied: terminado>=0.8.1 in /Users/sgkang/anaconda3/lib/python3.7/site-packages (from notebook->jupyter->geoana>=0.0.4->SimPEG>=0.4.1->simpegEM1D==0.0.18a0->-r requirement.txt (line 1)) (0.8.2)\n",
      "Requirement already satisfied: Send2Trash in /Users/sgkang/anaconda3/lib/python3.7/site-packages (from notebook->jupyter->geoana>=0.0.4->SimPEG>=0.4.1->simpegEM1D==0.0.18a0->-r requirement.txt (line 1)) (1.5.0)\n",
      "Requirement already satisfied: prometheus-client in /Users/sgkang/anaconda3/lib/python3.7/site-packages (from notebook->jupyter->geoana>=0.0.4->SimPEG>=0.4.1->simpegEM1D==0.0.18a0->-r requirement.txt (line 1)) (0.7.1)\n",
      "Requirement already satisfied: pyzmq>=17 in /Users/sgkang/anaconda3/lib/python3.7/site-packages (from notebook->jupyter->geoana>=0.0.4->SimPEG>=0.4.1->simpegEM1D==0.0.18a0->-r requirement.txt (line 1)) (18.0.0)\n",
      "Requirement already satisfied: jinja2 in /Users/sgkang/anaconda3/lib/python3.7/site-packages (from notebook->jupyter->geoana>=0.0.4->SimPEG>=0.4.1->simpegEM1D==0.0.18a0->-r requirement.txt (line 1)) (2.10.1)\n",
      "Requirement already satisfied: pandocfilters>=1.4.1 in /Users/sgkang/anaconda3/lib/python3.7/site-packages (from nbconvert->jupyter->geoana>=0.0.4->SimPEG>=0.4.1->simpegEM1D==0.0.18a0->-r requirement.txt (line 1)) (1.4.2)\n",
      "Requirement already satisfied: bleach in /Users/sgkang/anaconda3/lib/python3.7/site-packages (from nbconvert->jupyter->geoana>=0.0.4->SimPEG>=0.4.1->simpegEM1D==0.0.18a0->-r requirement.txt (line 1)) (3.1.0)\n",
      "Requirement already satisfied: mistune>=0.8.1 in /Users/sgkang/anaconda3/lib/python3.7/site-packages (from nbconvert->jupyter->geoana>=0.0.4->SimPEG>=0.4.1->simpegEM1D==0.0.18a0->-r requirement.txt (line 1)) (0.8.4)\n",
      "Requirement already satisfied: defusedxml in /Users/sgkang/anaconda3/lib/python3.7/site-packages (from nbconvert->jupyter->geoana>=0.0.4->SimPEG>=0.4.1->simpegEM1D==0.0.18a0->-r requirement.txt (line 1)) (0.6.0)\n",
      "Requirement already satisfied: entrypoints>=0.2.2 in /Users/sgkang/anaconda3/lib/python3.7/site-packages (from nbconvert->jupyter->geoana>=0.0.4->SimPEG>=0.4.1->simpegEM1D==0.0.18a0->-r requirement.txt (line 1)) (0.3)\n",
      "Requirement already satisfied: testpath in /Users/sgkang/anaconda3/lib/python3.7/site-packages (from nbconvert->jupyter->geoana>=0.0.4->SimPEG>=0.4.1->simpegEM1D==0.0.18a0->-r requirement.txt (line 1)) (0.4.2)\n",
      "Requirement already satisfied: attrs>=17.4.0 in /Users/sgkang/anaconda3/lib/python3.7/site-packages (from jsonschema!=2.5.0,>=2.4->nbformat>=4.2.0->ipywidgets->geoana>=0.0.4->SimPEG>=0.4.1->simpegEM1D==0.0.18a0->-r requirement.txt (line 1)) (19.1.0)\n",
      "Requirement already satisfied: pyrsistent>=0.14.0 in /Users/sgkang/anaconda3/lib/python3.7/site-packages (from jsonschema!=2.5.0,>=2.4->nbformat>=4.2.0->ipywidgets->geoana>=0.0.4->SimPEG>=0.4.1->simpegEM1D==0.0.18a0->-r requirement.txt (line 1)) (0.14.11)\n",
      "Requirement already satisfied: MarkupSafe>=0.23 in /Users/sgkang/anaconda3/lib/python3.7/site-packages (from jinja2->notebook->jupyter->geoana>=0.0.4->SimPEG>=0.4.1->simpegEM1D==0.0.18a0->-r requirement.txt (line 1)) (1.1.1)\n",
      "Requirement already satisfied: webencodings in /Users/sgkang/anaconda3/lib/python3.7/site-packages (from bleach->nbconvert->jupyter->geoana>=0.0.4->SimPEG>=0.4.1->simpegEM1D==0.0.18a0->-r requirement.txt (line 1)) (0.5.1)\n",
      "Installing collected packages: empymod, simpegEM1D, pyMKL\n",
      "  Found existing installation: empymod 1.3.dev0\n",
      "    Can't uninstall 'empymod'. No files were found to uninstall.\n",
      "  Found existing installation: simpegEM1D 0.0.18\n",
      "    Can't uninstall 'simpegEM1D'. No files were found to uninstall.\n",
      "  Found existing installation: pyMKL 0.0.1\n",
      "    Can't uninstall 'pyMKL'. No files were found to uninstall.\n",
      "Successfully installed empymod-1.10.3 pyMKL-0.0.3 simpegEM1D-0.0.18a0\n"
     ]
    }
   ],
   "source": [
    "!pip install -r requirement.txt"
   ]
  }
 ],
 "metadata": {
  "kernelspec": {
   "display_name": "Python 3",
   "language": "python",
   "name": "python3"
  },
  "language_info": {
   "codemirror_mode": {
    "name": "ipython",
    "version": 3
   },
   "file_extension": ".py",
   "mimetype": "text/x-python",
   "name": "python",
   "nbconvert_exporter": "python",
   "pygments_lexer": "ipython3",
   "version": "3.7.3"
  }
 },
 "nbformat": 4,
 "nbformat_minor": 2
}
